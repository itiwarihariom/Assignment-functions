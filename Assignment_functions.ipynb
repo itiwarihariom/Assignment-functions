{
  "nbformat": 4,
  "nbformat_minor": 0,
  "metadata": {
    "colab": {
      "provenance": []
    },
    "kernelspec": {
      "name": "python3",
      "display_name": "Python 3"
    },
    "language_info": {
      "name": "python"
    }
  },
  "cells": [
    {
      "cell_type": "markdown",
      "source": [
        "1. What is the difference between a function and a method in Python?\n",
        "- A function is a block of code defined using def, independent of any object.\n",
        "\n",
        "- A method is a function associated with an object, typically a class instance.\n",
        "\n"
      ],
      "metadata": {
        "id": "0pss5MnS3zek"
      }
    },
    {
      "cell_type": "code",
      "source": [
        "def add(x, y): return x + y  # Function\n",
        "\"hello\".upper()  # Method"
      ],
      "metadata": {
        "colab": {
          "base_uri": "https://localhost:8080/",
          "height": 35
        },
        "id": "c6GYQHGe4Hdz",
        "outputId": "c2b82b86-7f91-4947-e288-3e80533dab52"
      },
      "execution_count": null,
      "outputs": [
        {
          "output_type": "execute_result",
          "data": {
            "text/plain": [
              "'HELLO'"
            ],
            "application/vnd.google.colaboratory.intrinsic+json": {
              "type": "string"
            }
          },
          "metadata": {},
          "execution_count": 1
        }
      ]
    },
    {
      "cell_type": "markdown",
      "source": [
        " 2. Explain the concept of function arguments and parameters in Python.\n",
        " - Parameters are variables listed in the function definition.\n",
        "\n",
        "- Arguments are actual values passed to the function."
      ],
      "metadata": {
        "id": "_8FD8zEX4QIw"
      }
    },
    {
      "cell_type": "code",
      "source": [
        "def greet(name):  # name is a parameter\n",
        "    print(\"Hello\", name)\n",
        "\n",
        "greet(\"Alice\")  # \"Alice\" is the argument"
      ],
      "metadata": {
        "colab": {
          "base_uri": "https://localhost:8080/"
        },
        "id": "bsoqgArf4bqQ",
        "outputId": "2d1233c4-9b55-4ad2-af51-3d768c6d7a34"
      },
      "execution_count": null,
      "outputs": [
        {
          "output_type": "stream",
          "name": "stdout",
          "text": [
            "Hello Alice\n"
          ]
        }
      ]
    },
    {
      "cell_type": "markdown",
      "source": [
        " 3. What are the different ways to define and call a function in Python?\n",
        " - Define using def, call by name and parentheses.\n",
        "\n",
        "- With default, keyword, and variable-length arguments."
      ],
      "metadata": {
        "id": "dTEGBfjo4i50"
      }
    },
    {
      "cell_type": "code",
      "source": [
        "def say(msg=\"Hi\"): print(msg)\n",
        "say()               # Default\n",
        "say(msg=\"Hello\")    # Keyword"
      ],
      "metadata": {
        "colab": {
          "base_uri": "https://localhost:8080/"
        },
        "id": "-pkTHqfH4uaM",
        "outputId": "64f89f8f-33c1-42d9-9604-88d7ba6fa9da"
      },
      "execution_count": null,
      "outputs": [
        {
          "output_type": "stream",
          "name": "stdout",
          "text": [
            "Hi\n",
            "Hello\n"
          ]
        }
      ]
    },
    {
      "cell_type": "markdown",
      "source": [
        "  4. What is the purpose of the `return` statement in a Python function?\n",
        "- Exits function and sends a value back to the caller."
      ],
      "metadata": {
        "id": "zOAnt7Zr49_5"
      }
    },
    {
      "cell_type": "code",
      "source": [
        "def square(x): return x * x\n",
        "print(square(5))  # 25"
      ],
      "metadata": {
        "colab": {
          "base_uri": "https://localhost:8080/"
        },
        "id": "RxbCjnnr5HUy",
        "outputId": "5d9401ba-c68b-463e-c2dd-ae5c433fd675"
      },
      "execution_count": null,
      "outputs": [
        {
          "output_type": "stream",
          "name": "stdout",
          "text": [
            "25\n"
          ]
        }
      ]
    },
    {
      "cell_type": "markdown",
      "source": [
        " 5. What are iterators in Python and how do they differ from iterables?\n",
        " - Iterable: Can be looped (list, tuple, etc.)\n",
        " - Iterator: Has __next__() and __iter__()."
      ],
      "metadata": {
        "id": "ZcoK6kKG7IQp"
      }
    },
    {
      "cell_type": "code",
      "source": [
        "lst = [1, 2, 3]\n",
        "itr = iter(lst)\n",
        "print(next(itr))  # 1"
      ],
      "metadata": {
        "id": "QcgoQL8u703R",
        "outputId": "af48531b-387d-4a87-883b-f4bd925a2687",
        "colab": {
          "base_uri": "https://localhost:8080/"
        }
      },
      "execution_count": null,
      "outputs": [
        {
          "output_type": "stream",
          "name": "stdout",
          "text": [
            "1\n"
          ]
        }
      ]
    },
    {
      "cell_type": "markdown",
      "source": [
        "6. Explain the concept of generators in Python and how they are defined.\n",
        "- Generators are functions using yield to return one value at a time."
      ],
      "metadata": {
        "id": "UQC9IUGx87-P"
      }
    },
    {
      "cell_type": "code",
      "source": [
        "def gen():\n",
        "    yield 1\n",
        "    yield 2"
      ],
      "metadata": {
        "id": "UOAdgtUu9Gl6"
      },
      "execution_count": 6,
      "outputs": []
    },
    {
      "cell_type": "markdown",
      "source": [
        " 7. What are the advantages of using generators over regular functions?\n",
        " - Memory efficient\n",
        " - Lazy evaluation (generate on demand)\n",
        " - Easy to write\n",
        "\n"
      ],
      "metadata": {
        "id": "n6lIyJyK9MkJ"
      }
    },
    {
      "cell_type": "markdown",
      "source": [
        " 8. What is a lambda function in Python and when is it typically used?\n",
        " - One-line anonymous function.\n",
        " - Used for short-term functions or inside functions like map(), filter()."
      ],
      "metadata": {
        "id": "AnW_PYdP9Z0T"
      }
    },
    {
      "cell_type": "code",
      "source": [
        "square = lambda x: x * x"
      ],
      "metadata": {
        "id": "njLV7I6b9kju"
      },
      "execution_count": 7,
      "outputs": []
    },
    {
      "cell_type": "markdown",
      "source": [
        " 9. Explain the purpose and usage of the `map()` function in Python\n",
        " - Applies a function to each item in an iterable."
      ],
      "metadata": {
        "id": "P1G9E_fz9qpl"
      }
    },
    {
      "cell_type": "code",
      "source": [
        "#Example\n",
        "list(map(str.upper, ['a', 'b']))"
      ],
      "metadata": {
        "colab": {
          "base_uri": "https://localhost:8080/"
        },
        "id": "GOxBecog94EE",
        "outputId": "c033ff6b-4c18-40a1-8b31-c23d212230a2"
      },
      "execution_count": 8,
      "outputs": [
        {
          "output_type": "execute_result",
          "data": {
            "text/plain": [
              "['A', 'B']"
            ]
          },
          "metadata": {},
          "execution_count": 8
        }
      ]
    },
    {
      "cell_type": "markdown",
      "source": [
        " 10. What is the difference between `map()`, `reduce()`, and `filter()` functions in Python?\n",
        " - map(): Applies function to all items.\n",
        "\n",
        "- filter(): Selects items matching condition.\n",
        "\n",
        "- reduce(): Applies function cumulatively."
      ],
      "metadata": {
        "id": "JZldqy-G-GiL"
      }
    },
    {
      "cell_type": "code",
      "source": [
        "from functools import reduce\n",
        "reduce(lambda x, y: x + y, [1, 2, 3])"
      ],
      "metadata": {
        "colab": {
          "base_uri": "https://localhost:8080/"
        },
        "id": "0ee67OTV-Rac",
        "outputId": "a1512b62-992d-467b-9616-1245c82c02cd"
      },
      "execution_count": 9,
      "outputs": [
        {
          "output_type": "execute_result",
          "data": {
            "text/plain": [
              "6"
            ]
          },
          "metadata": {},
          "execution_count": 9
        }
      ]
    },
    {
      "cell_type": "markdown",
      "source": [
        "11. Using pen & paper write the internal mechanism for sum operation using reduce function on this given list: [47, 11, 42, 13]"
      ],
      "metadata": {
        "id": "6LbA-JnG-VdG"
      }
    },
    {
      "cell_type": "code",
      "source": [
        "#Step 1: 47 + 11 = 58\n",
        "#Step 2: 58 + 42 = 100\n",
        "#Step 3: 100 + 13 = 113\n",
        "#Final Result: 113"
      ],
      "metadata": {
        "id": "j7ZehQJT-zYo"
      },
      "execution_count": null,
      "outputs": []
    },
    {
      "cell_type": "markdown",
      "source": [
        "# Practical Questions:"
      ],
      "metadata": {
        "id": "FTMQJ10w_n0Z"
      }
    },
    {
      "cell_type": "markdown",
      "source": [
        " 1. Write a Python function that takes a list of numbers as input and returns the sum of all even numbers in\n",
        "the list."
      ],
      "metadata": {
        "id": "C7i58oLd-xe_"
      }
    },
    {
      "cell_type": "code",
      "source": [
        "def sum_even(lst):\n",
        "    return sum(x for x in lst if x % 2 == 0)\n",
        "\n",
        "sum_even([8])"
      ],
      "metadata": {
        "colab": {
          "base_uri": "https://localhost:8080/"
        },
        "id": "ezjPw-kL-4jF",
        "outputId": "a50c81bc-b2a3-4949-e136-b340d6b7890d"
      },
      "execution_count": 16,
      "outputs": [
        {
          "output_type": "execute_result",
          "data": {
            "text/plain": [
              "8"
            ]
          },
          "metadata": {},
          "execution_count": 16
        }
      ]
    },
    {
      "cell_type": "markdown",
      "source": [
        " 2. Create a Python function that accepts a string and returns the reverse of that string"
      ],
      "metadata": {
        "id": "H711BuNa_r6B"
      }
    },
    {
      "cell_type": "code",
      "source": [
        "def reverse_string(s):\n",
        "    return s[::-1]\n",
        "reverse_string(\"hello\")"
      ],
      "metadata": {
        "colab": {
          "base_uri": "https://localhost:8080/",
          "height": 35
        },
        "id": "UMIz2fwd_vPq",
        "outputId": "0cf89525-a37a-4a58-fa5b-ea474cf5711b"
      },
      "execution_count": 17,
      "outputs": [
        {
          "output_type": "execute_result",
          "data": {
            "text/plain": [
              "'olleh'"
            ],
            "application/vnd.google.colaboratory.intrinsic+json": {
              "type": "string"
            }
          },
          "metadata": {},
          "execution_count": 17
        }
      ]
    },
    {
      "cell_type": "markdown",
      "source": [
        "3. Implement a Python function that takes a list of integers and returns a new list containing the squares of\n",
        "each number"
      ],
      "metadata": {
        "id": "XIHXrAcJAEGH"
      }
    },
    {
      "cell_type": "code",
      "source": [
        "def square_list(lst):\n",
        "    return [x ** 2 for x in lst]\n",
        "\n",
        "square_list([1,2,3])"
      ],
      "metadata": {
        "colab": {
          "base_uri": "https://localhost:8080/"
        },
        "id": "RUEd69JVAHFN",
        "outputId": "0b6b7537-08ba-480e-e530-981bf08c29f0"
      },
      "execution_count": 18,
      "outputs": [
        {
          "output_type": "execute_result",
          "data": {
            "text/plain": [
              "[1, 4, 9]"
            ]
          },
          "metadata": {},
          "execution_count": 18
        }
      ]
    },
    {
      "cell_type": "markdown",
      "source": [
        " 4. Write a Python function that checks if a given number is prime or not from 1 to 200"
      ],
      "metadata": {
        "id": "QofQTllKAM-x"
      }
    },
    {
      "cell_type": "code",
      "source": [
        "def is_prime(n):\n",
        "    if n < 2: return False\n",
        "    for i in range(2, int(n**0.5)+1):\n",
        "        if n % i == 0: return False\n",
        "    return True\n",
        "\n",
        "primes = [x for x in range(1, 201) if is_prime(x)]\n",
        "\n",
        "is_prime(67)"
      ],
      "metadata": {
        "colab": {
          "base_uri": "https://localhost:8080/"
        },
        "id": "xndX2sV9AQTz",
        "outputId": "83e53121-6aa9-42e7-c725-a01f1ea43906"
      },
      "execution_count": 26,
      "outputs": [
        {
          "output_type": "execute_result",
          "data": {
            "text/plain": [
              "True"
            ]
          },
          "metadata": {},
          "execution_count": 26
        }
      ]
    },
    {
      "cell_type": "markdown",
      "source": [
        " 5. Create an iterator class in Python that generates the Fibonacci sequence up to a specified number of\n",
        "terms."
      ],
      "metadata": {
        "id": "ScHpAv11A2Hv"
      }
    },
    {
      "cell_type": "code",
      "source": [
        "class Fibonacci:\n",
        "    def __init__(self, limit):\n",
        "        self.a, self.b = 0, 1\n",
        "        self.limit = limit\n",
        "        self.count = 0\n",
        "\n",
        "    def __iter__(self): return self\n",
        "\n",
        "    def __next__(self):\n",
        "        if self.count >= self.limit: raise StopIteration\n",
        "        self.a, self.b = self.b, self.a + self.b\n",
        "        self.count += 1\n",
        "        return self.a\n"
      ],
      "metadata": {
        "id": "SqqbiyscA406"
      },
      "execution_count": 27,
      "outputs": []
    },
    {
      "cell_type": "markdown",
      "source": [
        "6. Write a generator function in Python that yields the powers of 2 up to a given exponent."
      ],
      "metadata": {
        "id": "0BFGYrxxBKLs"
      }
    },
    {
      "cell_type": "code",
      "source": [
        "def power_of_two(exp):\n",
        "    for i in range(exp + 1):\n",
        "        yield 2 ** i\n",
        "list(power_of_two(5))"
      ],
      "metadata": {
        "colab": {
          "base_uri": "https://localhost:8080/"
        },
        "id": "AgC7xGu_BNBM",
        "outputId": "58fddb4b-a6e5-44d8-db07-ed1d3cfb836a"
      },
      "execution_count": 30,
      "outputs": [
        {
          "output_type": "execute_result",
          "data": {
            "text/plain": [
              "[1, 2, 4, 8, 16, 32]"
            ]
          },
          "metadata": {},
          "execution_count": 30
        }
      ]
    },
    {
      "cell_type": "markdown",
      "source": [
        " 7. Implement a generator function that reads a file line by line and yields each line as a string"
      ],
      "metadata": {
        "id": "IN5AD3mhBXZc"
      }
    },
    {
      "cell_type": "code",
      "source": [
        "def read_file(filename):\n",
        "    with open(filename) as f:\n",
        "        for line in f:\n",
        "            yield line.strip()"
      ],
      "metadata": {
        "id": "mnX9rnOvBrqQ"
      },
      "execution_count": 35,
      "outputs": []
    },
    {
      "cell_type": "markdown",
      "source": [
        " 8. Use a lambda function in Python to sort a list of tuples based on the second element of each tuple."
      ],
      "metadata": {
        "id": "PK1Z35RNCGI3"
      }
    },
    {
      "cell_type": "code",
      "source": [
        "lst = [(1, 3), (2, 1), (4, 2)]\n",
        "sorted_lst = sorted(lst, key=lambda x: x[1])"
      ],
      "metadata": {
        "id": "lqpDxXfjCJvh"
      },
      "execution_count": 40,
      "outputs": []
    },
    {
      "cell_type": "markdown",
      "source": [
        "9. Write a Python program that uses `map()` to convert a list of temperatures from Celsius to Fahrenheit."
      ],
      "metadata": {
        "id": "EiugrOn-Cmlo"
      }
    },
    {
      "cell_type": "code",
      "source": [
        "celsius = [0, 20, 40]\n",
        "fahrenheit = list(map(lambda c: (c * 9/5) + 32, celsius))"
      ],
      "metadata": {
        "id": "QNaujkwTCpoZ"
      },
      "execution_count": 41,
      "outputs": []
    },
    {
      "cell_type": "markdown",
      "source": [
        " 10. Create a Python program that uses `filter()` to remove all the vowels from a given string."
      ],
      "metadata": {
        "id": "6iTohPoMC1Eh"
      }
    },
    {
      "cell_type": "code",
      "source": [
        "def remove_vowels(s):\n",
        "    return ''.join(filter(lambda c: c.lower() not in 'aeiou', s))"
      ],
      "metadata": {
        "id": "kleYvSPGC4bm"
      },
      "execution_count": 42,
      "outputs": []
    },
    {
      "cell_type": "markdown",
      "source": [
        " 11) Imagine an accounting routine used in a book shop. It works on a list with sublists, which look like this:\n",
        " Write a Python program, which returns a list with 2-tuples. Each tuple consists of the order number and the\n",
        "product of the price per item and the quantity. The product should be increased by 10,- € if the value of the\n",
        "order is smaller than 100,00 €.\n",
        " Write a Python program using lambda and map"
      ],
      "metadata": {
        "id": "eVtUSmKJC7Ri"
      }
    },
    {
      "cell_type": "code",
      "source": [
        "orders = [\n",
        "    [34587, \"Learning Python\", 4, 40.95],\n",
        "    [98762, \"Programming Java\", 5, 10.95],\n",
        "    [77226, \"Head First Python\", 3, 20.95],\n",
        "    [88112, \"Python Cookbook\", 3, 14.95]\n",
        "]\n",
        "\n",
        "result = list(map(lambda order: (\n",
        "    order[0],\n",
        "    order[2] * order[3] + (10 if order[2] * order[3] < 100 else 0)\n",
        "), orders))\n",
        "\n",
        "result"
      ],
      "metadata": {
        "colab": {
          "base_uri": "https://localhost:8080/"
        },
        "id": "rm9WvQs8DAdj",
        "outputId": "fa4a180a-83a3-46bd-f90f-d5416e45a6ed"
      },
      "execution_count": 44,
      "outputs": [
        {
          "output_type": "execute_result",
          "data": {
            "text/plain": [
              "[(34587, 163.8), (98762, 64.75), (77226, 72.85), (88112, 54.849999999999994)]"
            ]
          },
          "metadata": {},
          "execution_count": 44
        }
      ]
    }
  ]
}